{
 "cells": [
  {
   "cell_type": "code",
   "execution_count": 37,
   "metadata": {},
   "outputs": [
    {
     "name": "stdout",
     "output_type": "stream",
     "text": [
      "Rectangle\n",
      "Pentagon\n",
      "Pentagon\n"
     ]
    }
   ],
   "source": [
    "import cv2\n",
    "import numpy as np\n",
    "\n",
    "img = cv2.imread(\"shapes.jpg\", cv2.IMREAD_GRAYSCALE);\n",
    "_, threshold = cv2.threshold(img,240,260, cv2.THRESH_BINARY)\n",
    "\n",
    "_, contours, _ = cv2.findContours(threshold, cv2.RETR_TREE, cv2.CHAIN_APPROX_SIMPLE)\n",
    "\n",
    "for cnt in contours:\n",
    "    approx = cv2.approxPolyDP(cnt, 0.0025*cv2.arcLength(cnt, True), True)\n",
    "    cv2.drawContours(img, [approx], 0, (600), 5)\n",
    "    if len(approx) == 3:\n",
    "        print(\"Triangle\")\n",
    "    elif len(approx) == 4:\n",
    "        print(\"Rectangle\")\n",
    "    elif len(approx) == 5:\n",
    "        print(\"Pentagon\")\n",
    "    elif 6 < len(approx) < 15:\n",
    "        print(\"Ellipse\")\n",
    "    else: \n",
    "        print(\"Circle\")\n",
    "        \n",
    "cv2.imshow(\"Shapes\", img);\n",
    "cv2.imshow(\"Threshold\", threshold)\n",
    "cv2.waitKey(0);\n",
    "cv2.destroyAllWindows();"
   ]
  },
  {
   "cell_type": "code",
   "execution_count": null,
   "metadata": {},
   "outputs": [],
   "source": []
  },
  {
   "cell_type": "code",
   "execution_count": null,
   "metadata": {},
   "outputs": [],
   "source": []
  },
  {
   "cell_type": "code",
   "execution_count": null,
   "metadata": {},
   "outputs": [],
   "source": []
  },
  {
   "cell_type": "code",
   "execution_count": null,
   "metadata": {},
   "outputs": [],
   "source": []
  },
  {
   "cell_type": "code",
   "execution_count": null,
   "metadata": {},
   "outputs": [],
   "source": []
  }
 ],
 "metadata": {
  "kernelspec": {
   "display_name": "Python 3",
   "language": "python",
   "name": "python3"
  },
  "language_info": {
   "codemirror_mode": {
    "name": "ipython",
    "version": 3
   },
   "file_extension": ".py",
   "mimetype": "text/x-python",
   "name": "python",
   "nbconvert_exporter": "python",
   "pygments_lexer": "ipython3",
   "version": "3.6.5"
  }
 },
 "nbformat": 4,
 "nbformat_minor": 2
}
